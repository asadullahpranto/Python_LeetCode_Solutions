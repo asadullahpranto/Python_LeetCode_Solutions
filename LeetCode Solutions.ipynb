{
 "cells": [
  {
   "cell_type": "markdown",
   "metadata": {},
   "source": [
    "## 1. Maximum Product of Three Numbers [Leetcode: 628]\n",
    "#### link: https://leetcode.com/problems/maximum-product-of-three-numbers/"
   ]
  },
  {
   "cell_type": "code",
   "execution_count": null,
   "metadata": {},
   "outputs": [],
   "source": [
    "class Solution:\n",
    "    def maximumProduct(self, nums: List[int]) -> int:\n",
    "        nums.sort()\n",
    "        return max(nums[0] * nums[1] * nums[-1], nums[-1] * nums[-2] * nums[-3])"
   ]
  },
  {
   "cell_type": "markdown",
   "metadata": {},
   "source": [
    "## 2. Richest Customer Wealth [Leetcode: 1672]\n",
    "#### Link: https://leetcode.com/problems/richest-customer-wealth/"
   ]
  },
  {
   "cell_type": "code",
   "execution_count": null,
   "metadata": {},
   "outputs": [],
   "source": [
    "class Solution:\n",
    "    def maximumWealth(self, accounts: List[List[int]]) -> int:\n",
    "        mx = 0\n",
    "        \n",
    "        for account in accounts:\n",
    "            mx = max(mx, sum(account))\n",
    "            \n",
    "        return mx"
   ]
  },
  {
   "cell_type": "markdown",
   "metadata": {},
   "source": [
    "## 3. Shuffle the Array [Leetcode: 1470]\n",
    "#### link: https://leetcode.com/problems/shuffle-the-array/"
   ]
  },
  {
   "cell_type": "code",
   "execution_count": null,
   "metadata": {},
   "outputs": [],
   "source": [
    "class Solution:\n",
    "    def shuffle(self, nums: List[int], n: int) -> List[int]:\n",
    "        ans = []\n",
    "        for i in range(n):\n",
    "            ans.append(nums[i])\n",
    "            ans.append(nums[n + i])\n",
    "        return ans"
   ]
  },
  {
   "cell_type": "markdown",
   "metadata": {},
   "source": [
    "## 4. Valid Perfect Square [Leetcode: 367]\n",
    "#### link: https://leetcode.com/problems/valid-perfect-square/"
   ]
  },
  {
   "cell_type": "code",
   "execution_count": null,
   "metadata": {},
   "outputs": [],
   "source": [
    "class Solution:\n",
    "    def isPerfectSquare(self, num: int) -> bool:\n",
    "        if num == 1:\n",
    "            return True\n",
    "        \n",
    "        low = 0\n",
    "        high = num\n",
    "        while low < high:\n",
    "            mid = low + (high - low)//2\n",
    "            \n",
    "            if mid * mid == num:\n",
    "                return True\n",
    "            elif mid * mid < num:\n",
    "                low = mid + 1\n",
    "            else: \n",
    "                high = mid\n",
    "                \n",
    "        return False"
   ]
  }
 ],
 "metadata": {
  "kernelspec": {
   "display_name": "Python 3",
   "language": "python",
   "name": "python3"
  },
  "language_info": {
   "codemirror_mode": {
    "name": "ipython",
    "version": 3
   },
   "file_extension": ".py",
   "mimetype": "text/x-python",
   "name": "python",
   "nbconvert_exporter": "python",
   "pygments_lexer": "ipython3",
   "version": "3.7.6"
  }
 },
 "nbformat": 4,
 "nbformat_minor": 4
}
